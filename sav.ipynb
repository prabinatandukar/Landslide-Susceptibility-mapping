{
 "cells": [
  {
   "cell_type": "code",
   "execution_count": 1,
   "id": "88f62ed4-523b-4ee4-b4aa-2abfd74323e1",
   "metadata": {},
   "outputs": [
    {
     "name": "stdout",
     "output_type": "stream",
     "text": [
      "Collecting pyreadstatNote: you may need to restart the kernel to use updated packages.\n"
     ]
    },
    {
     "name": "stderr",
     "output_type": "stream",
     "text": [
      "WARNING: Ignoring invalid distribution -upyterlab (c:\\temp\\thesis\\lib\\site-packages)\n",
      "WARNING: Ignoring invalid distribution -upyterlab (c:\\temp\\thesis\\lib\\site-packages)\n",
      "\n",
      "[notice] A new release of pip is available: 24.0 -> 24.1\n",
      "[notice] To update, run: python.exe -m pip install --upgrade pip\n"
     ]
    },
    {
     "name": "stdout",
     "output_type": "stream",
     "text": [
      "\n",
      "  Downloading pyreadstat-1.2.7-cp39-cp39-win_amd64.whl.metadata (1.1 kB)\n",
      "Requirement already satisfied: pandas>=1.2.0 in c:\\temp\\thesis\\lib\\site-packages (from pyreadstat) (2.2.1)\n",
      "Requirement already satisfied: numpy<2,>=1.22.4 in c:\\temp\\thesis\\lib\\site-packages (from pandas>=1.2.0->pyreadstat) (1.26.4)\n",
      "Requirement already satisfied: python-dateutil>=2.8.2 in c:\\temp\\thesis\\lib\\site-packages (from pandas>=1.2.0->pyreadstat) (2.9.0.post0)\n",
      "Requirement already satisfied: pytz>=2020.1 in c:\\temp\\thesis\\lib\\site-packages (from pandas>=1.2.0->pyreadstat) (2024.1)\n",
      "Requirement already satisfied: tzdata>=2022.7 in c:\\temp\\thesis\\lib\\site-packages (from pandas>=1.2.0->pyreadstat) (2024.1)\n",
      "Requirement already satisfied: six>=1.5 in c:\\temp\\thesis\\lib\\site-packages (from python-dateutil>=2.8.2->pandas>=1.2.0->pyreadstat) (1.16.0)\n",
      "Downloading pyreadstat-1.2.7-cp39-cp39-win_amd64.whl (2.4 MB)\n",
      "   ---------------------------------------- 0.0/2.4 MB ? eta -:--:--\n",
      "   ---------------------------------------- 0.0/2.4 MB ? eta -:--:--\n",
      "   ---------------------------------------- 0.0/2.4 MB ? eta -:--:--\n",
      "    --------------------------------------- 0.0/2.4 MB 217.9 kB/s eta 0:00:11\n",
      "   - -------------------------------------- 0.1/2.4 MB 328.2 kB/s eta 0:00:08\n",
      "   --- ------------------------------------ 0.2/2.4 MB 1.1 MB/s eta 0:00:03\n",
      "   ---- ----------------------------------- 0.3/2.4 MB 1.1 MB/s eta 0:00:02\n",
      "   ------ --------------------------------- 0.4/2.4 MB 1.3 MB/s eta 0:00:02\n",
      "   ------- -------------------------------- 0.4/2.4 MB 1.3 MB/s eta 0:00:02\n",
      "   --------- ------------------------------ 0.6/2.4 MB 1.4 MB/s eta 0:00:02\n",
      "   ---------- ----------------------------- 0.6/2.4 MB 1.5 MB/s eta 0:00:02\n",
      "   ----------- ---------------------------- 0.7/2.4 MB 1.4 MB/s eta 0:00:02\n",
      "   ------------ --------------------------- 0.7/2.4 MB 1.4 MB/s eta 0:00:02\n",
      "   ------------ --------------------------- 0.8/2.4 MB 1.3 MB/s eta 0:00:02\n",
      "   ------------- -------------------------- 0.8/2.4 MB 1.3 MB/s eta 0:00:02\n",
      "   -------------- ------------------------- 0.8/2.4 MB 1.3 MB/s eta 0:00:02\n",
      "   -------------- ------------------------- 0.9/2.4 MB 1.2 MB/s eta 0:00:02\n",
      "   --------------- ------------------------ 0.9/2.4 MB 1.2 MB/s eta 0:00:02\n",
      "   --------------- ------------------------ 0.9/2.4 MB 1.1 MB/s eta 0:00:02\n",
      "   --------------- ------------------------ 0.9/2.4 MB 1.1 MB/s eta 0:00:02\n",
      "   --------------- ------------------------ 1.0/2.4 MB 1.1 MB/s eta 0:00:02\n",
      "   ---------------- ----------------------- 1.0/2.4 MB 1.0 MB/s eta 0:00:02\n",
      "   ---------------- ----------------------- 1.0/2.4 MB 983.0 kB/s eta 0:00:02\n",
      "   ---------------- ----------------------- 1.0/2.4 MB 958.5 kB/s eta 0:00:02\n",
      "   ---------------- ----------------------- 1.0/2.4 MB 926.7 kB/s eta 0:00:02\n",
      "   ---------------- ----------------------- 1.0/2.4 MB 926.7 kB/s eta 0:00:02\n",
      "   ----------------- ---------------------- 1.1/2.4 MB 868.2 kB/s eta 0:00:02\n",
      "   ----------------- ---------------------- 1.1/2.4 MB 868.2 kB/s eta 0:00:02\n",
      "   ----------------- ---------------------- 1.1/2.4 MB 831.4 kB/s eta 0:00:02\n",
      "   ------------------ --------------------- 1.1/2.4 MB 817.3 kB/s eta 0:00:02\n",
      "   ------------------ --------------------- 1.1/2.4 MB 805.6 kB/s eta 0:00:02\n",
      "   ------------------ --------------------- 1.1/2.4 MB 792.1 kB/s eta 0:00:02\n",
      "   ------------------- -------------------- 1.2/2.4 MB 794.7 kB/s eta 0:00:02\n",
      "   -------------------- ------------------- 1.2/2.4 MB 789.2 kB/s eta 0:00:02\n",
      "   --------------------- ------------------ 1.3/2.4 MB 798.2 kB/s eta 0:00:02\n",
      "   ---------------------- ----------------- 1.4/2.4 MB 817.5 kB/s eta 0:00:02\n",
      "   ----------------------- ---------------- 1.4/2.4 MB 831.1 kB/s eta 0:00:02\n",
      "   ------------------------ --------------- 1.5/2.4 MB 849.9 kB/s eta 0:00:02\n",
      "   ------------------------- -------------- 1.6/2.4 MB 873.9 kB/s eta 0:00:01\n",
      "   --------------------------- ------------ 1.6/2.4 MB 896.3 kB/s eta 0:00:01\n",
      "   ---------------------------- ----------- 1.7/2.4 MB 917.5 kB/s eta 0:00:01\n",
      "   ------------------------------ --------- 1.8/2.4 MB 943.0 kB/s eta 0:00:01\n",
      "   ------------------------------- -------- 1.9/2.4 MB 972.5 kB/s eta 0:00:01\n",
      "   --------------------------------- ------ 2.0/2.4 MB 1.0 MB/s eta 0:00:01\n",
      "   ----------------------------------- ---- 2.2/2.4 MB 1.0 MB/s eta 0:00:01\n",
      "   ------------------------------------- -- 2.3/2.4 MB 1.1 MB/s eta 0:00:01\n",
      "   ---------------------------------------  2.4/2.4 MB 1.1 MB/s eta 0:00:01\n",
      "   ---------------------------------------- 2.4/2.4 MB 1.1 MB/s eta 0:00:00\n",
      "Installing collected packages: pyreadstat\n",
      "Successfully installed pyreadstat-1.2.7\n"
     ]
    }
   ],
   "source": [
    "pip install pyreadstat\n"
   ]
  },
  {
   "cell_type": "code",
   "execution_count": 2,
   "id": "5932c1c1-b083-46af-a3f8-6befc2ddf9a6",
   "metadata": {
    "scrolled": true
   },
   "outputs": [
    {
     "ename": "ReadstatError",
     "evalue": "Invalid file, or file has unsupported features",
     "output_type": "error",
     "traceback": [
      "\u001b[1;31m---------------------------------------------------------------------------\u001b[0m",
      "\u001b[1;31mReadstatError\u001b[0m                             Traceback (most recent call last)",
      "Cell \u001b[1;32mIn[2], line 4\u001b[0m\n\u001b[0;32m      1\u001b[0m \u001b[38;5;28;01mimport\u001b[39;00m \u001b[38;5;21;01mpyreadstat\u001b[39;00m\n\u001b[0;32m      3\u001b[0m \u001b[38;5;66;03m# Replace 'your_file.sav' with the path to your .sav file\u001b[39;00m\n\u001b[1;32m----> 4\u001b[0m df, meta \u001b[38;5;241m=\u001b[39m \u001b[43mpyreadstat\u001b[49m\u001b[38;5;241;43m.\u001b[39;49m\u001b[43mread_sav\u001b[49m\u001b[43m(\u001b[49m\u001b[38;5;124;43m'\u001b[39;49m\u001b[38;5;124;43mC:/temp/project/xgb_boost_finalized_model.sav\u001b[39;49m\u001b[38;5;124;43m'\u001b[39;49m\u001b[43m)\u001b[49m\n\u001b[0;32m      6\u001b[0m \u001b[38;5;66;03m# Display the DataFrame\u001b[39;00m\n\u001b[0;32m      7\u001b[0m \u001b[38;5;28mprint\u001b[39m(df\u001b[38;5;241m.\u001b[39mhead())\n",
      "File \u001b[1;32mpyreadstat\\\\pyreadstat.pyx:389\u001b[0m, in \u001b[0;36mpyreadstat.pyreadstat.read_sav\u001b[1;34m()\u001b[0m\n",
      "File \u001b[1;32mpyreadstat\\\\_readstat_parser.pyx:1137\u001b[0m, in \u001b[0;36mpyreadstat._readstat_parser.run_conversion\u001b[1;34m()\u001b[0m\n",
      "File \u001b[1;32mpyreadstat\\\\_readstat_parser.pyx:882\u001b[0m, in \u001b[0;36mpyreadstat._readstat_parser.run_readstat_parser\u001b[1;34m()\u001b[0m\n",
      "File \u001b[1;32mpyreadstat\\\\_readstat_parser.pyx:804\u001b[0m, in \u001b[0;36mpyreadstat._readstat_parser.check_exit_status\u001b[1;34m()\u001b[0m\n",
      "\u001b[1;31mReadstatError\u001b[0m: Invalid file, or file has unsupported features"
     ]
    }
   ],
   "source": [
    "import pyreadstat\n",
    "\n",
    "# Replace 'your_file.sav' with the path to your .sav file\n",
    "df, meta = pyreadstat.read_sav('C:/temp/project/xgb_boost_finalized_model.sav')\n",
    "\n",
    "# Display the DataFrame\n",
    "print(df.head())\n"
   ]
  },
  {
   "cell_type": "code",
   "execution_count": 3,
   "id": "0c2c922f-8001-455d-895e-46d60f341f29",
   "metadata": {},
   "outputs": [
    {
     "ename": "ModuleNotFoundError",
     "evalue": "No module named 'savReaderWriter'",
     "output_type": "error",
     "traceback": [
      "\u001b[1;31m---------------------------------------------------------------------------\u001b[0m",
      "\u001b[1;31mModuleNotFoundError\u001b[0m                       Traceback (most recent call last)",
      "Cell \u001b[1;32mIn[3], line 3\u001b[0m\n\u001b[0;32m      1\u001b[0m \u001b[38;5;66;03m# If using savReaderWriter\u001b[39;00m\n\u001b[0;32m      2\u001b[0m \u001b[38;5;28;01mimport\u001b[39;00m \u001b[38;5;21;01mpandas\u001b[39;00m \u001b[38;5;28;01mas\u001b[39;00m \u001b[38;5;21;01mpd\u001b[39;00m\n\u001b[1;32m----> 3\u001b[0m \u001b[38;5;28;01mimport\u001b[39;00m \u001b[38;5;21;01msavReaderWriter\u001b[39;00m\n\u001b[0;32m      5\u001b[0m \u001b[38;5;66;03m# Replace 'your_file.sav' with the path to your .sav file\u001b[39;00m\n\u001b[0;32m      6\u001b[0m \u001b[38;5;28;01mwith\u001b[39;00m savReaderWriter\u001b[38;5;241m.\u001b[39mSavReader(\u001b[38;5;124m'\u001b[39m\u001b[38;5;124mC:/temp/project/xgb_boost_finalized_model.sav\u001b[39m\u001b[38;5;124m'\u001b[39m) \u001b[38;5;28;01mas\u001b[39;00m reader:\n",
      "\u001b[1;31mModuleNotFoundError\u001b[0m: No module named 'savReaderWriter'"
     ]
    }
   ],
   "source": [
    "# If using savReaderWriter\n",
    "import pandas as pd\n",
    "import savReaderWriter\n",
    "\n",
    "# Replace 'your_file.sav' with the path to your .sav file\n",
    "with savReaderWriter.SavReader('C:/temp/project/xgb_boost_finalized_model.sav') as reader:\n",
    "    records = reader.all()\n",
    "    df = pd.DataFrame(records, columns=[s.decode() for s in reader.header])\n",
    "\n",
    "# Display the DataFrame\n",
    "df.head()\n"
   ]
  },
  {
   "cell_type": "code",
   "execution_count": 4,
   "id": "945eabc1-17b7-45c7-9ec6-a35371ce7ed3",
   "metadata": {},
   "outputs": [
    {
     "ename": "ReadstatError",
     "evalue": "Invalid file, or file has unsupported features",
     "output_type": "error",
     "traceback": [
      "\u001b[1;31m---------------------------------------------------------------------------\u001b[0m",
      "\u001b[1;31mReadstatError\u001b[0m                             Traceback (most recent call last)",
      "Cell \u001b[1;32mIn[4], line 5\u001b[0m\n\u001b[0;32m      2\u001b[0m \u001b[38;5;28;01mimport\u001b[39;00m \u001b[38;5;21;01mpyreadstat\u001b[39;00m\n\u001b[0;32m      4\u001b[0m \u001b[38;5;66;03m# Replace 'your_file.sav' with the path to your .sav file\u001b[39;00m\n\u001b[1;32m----> 5\u001b[0m df, meta \u001b[38;5;241m=\u001b[39m \u001b[43mpyreadstat\u001b[49m\u001b[38;5;241;43m.\u001b[39;49m\u001b[43mread_sav\u001b[49m\u001b[43m(\u001b[49m\u001b[38;5;124;43m'\u001b[39;49m\u001b[38;5;124;43mC:/temp/project/xgb_boost_finalized_model.sav\u001b[39;49m\u001b[38;5;124;43m'\u001b[39;49m\u001b[43m)\u001b[49m\n\u001b[0;32m      7\u001b[0m \u001b[38;5;66;03m# Display the DataFrame\u001b[39;00m\n\u001b[0;32m      8\u001b[0m df\u001b[38;5;241m.\u001b[39mhead()\n",
      "File \u001b[1;32mpyreadstat\\\\pyreadstat.pyx:389\u001b[0m, in \u001b[0;36mpyreadstat.pyreadstat.read_sav\u001b[1;34m()\u001b[0m\n",
      "File \u001b[1;32mpyreadstat\\\\_readstat_parser.pyx:1137\u001b[0m, in \u001b[0;36mpyreadstat._readstat_parser.run_conversion\u001b[1;34m()\u001b[0m\n",
      "File \u001b[1;32mpyreadstat\\\\_readstat_parser.pyx:882\u001b[0m, in \u001b[0;36mpyreadstat._readstat_parser.run_readstat_parser\u001b[1;34m()\u001b[0m\n",
      "File \u001b[1;32mpyreadstat\\\\_readstat_parser.pyx:804\u001b[0m, in \u001b[0;36mpyreadstat._readstat_parser.check_exit_status\u001b[1;34m()\u001b[0m\n",
      "\u001b[1;31mReadstatError\u001b[0m: Invalid file, or file has unsupported features"
     ]
    }
   ],
   "source": [
    "# If using pyreadstat\n",
    "import pyreadstat\n",
    "\n",
    "# Replace 'your_file.sav' with the path to your .sav file\n",
    "df, meta = pyreadstat.read_sav('C:/temp/project/xgb_boost_finalized_model.sav')\n",
    "\n",
    "# Display the DataFrame\n",
    "df.head()"
   ]
  },
  {
   "cell_type": "code",
   "execution_count": null,
   "id": "58945512-70e2-4cb7-b76f-3f987ef91d06",
   "metadata": {},
   "outputs": [],
   "source": []
  }
 ],
 "metadata": {
  "kernelspec": {
   "display_name": "Python 3 (ipykernel)",
   "language": "python",
   "name": "python3"
  },
  "language_info": {
   "codemirror_mode": {
    "name": "ipython",
    "version": 3
   },
   "file_extension": ".py",
   "mimetype": "text/x-python",
   "name": "python",
   "nbconvert_exporter": "python",
   "pygments_lexer": "ipython3",
   "version": "3.9.16"
  }
 },
 "nbformat": 4,
 "nbformat_minor": 5
}
